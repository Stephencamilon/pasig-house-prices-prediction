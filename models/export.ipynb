{
 "cells": [
  {
   "cell_type": "code",
   "execution_count": null,
   "metadata": {},
   "outputs": [],
   "source": [
    "!pip install ydf -U -qq\n",
    "\n",
    "# Transfer the model from Google Drive to Colab\n",
    "from google.colab import drive\n",
    "drive.mount(\"/content/gdrive\")\n",
    "!cp \"/content/gdrive/My Drive/simple_ml_for_sheets/Pasig House Prices Prediction\" model_zip\n",
    "!unzip model_zip -d model_dir\n",
    "  \n",
    "# Prepare and load the model with YDF\n",
    "import ydf\n",
    "\n",
    "model = ydf.load_model(\"model_dir\")\n",
    "\n",
    "# Make predictions with the model\n",
    "examples = {\n",
    "  \"Latitude\" : [14.58, 14.59, 14.58],\n",
    "  \"Bath\" : [2.0, 1.0, 1.0],\n",
    "  \"Longitude\" : [121.1, 121.1, 121.1],\n",
    "  \"Location\" : [\"pasig, oranbo\", \"pasig, san, antonio\", \"pasig, ortigas, cbd\"],\n",
    "  \"Bedrooms\" : [2.0, 1.0, 1.0],\n",
    "  \"Floor_area_sqm\" : [104.0, 69.0, 49.0],\n",
    "}\n",
    "model.predict(examples)"
   ]
  }
 ],
 "metadata": {
  "language_info": {
   "name": "python"
  }
 },
 "nbformat": 4,
 "nbformat_minor": 2
}
