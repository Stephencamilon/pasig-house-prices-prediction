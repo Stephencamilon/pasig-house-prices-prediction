{
  "cells": [
    {
      "cell_type": "markdown",
      "metadata": {},
      "source": [
        "# Pasig House Prices Prediction 🏠"
      ]
    },
    {
      "cell_type": "markdown",
      "metadata": {
        "id": "nuYZPuWOMDL3"
      },
      "source": [
        "# Install Dependencies"
      ]
    },
    {
      "cell_type": "code",
      "execution_count": 1,
      "metadata": {
        "colab": {
          "base_uri": "https://localhost:8080/"
        },
        "id": "xnJ4T0E-LdL2",
        "outputId": "4a9a1527-1cf0-4ddd-dc78-47e0dafa5dff"
      },
      "outputs": [
        {
          "name": "stdout",
          "output_type": "stream",
          "text": [
            "\u001b[2K     \u001b[90m━━━━━━━━━━━━━━━━━━━━━━━━━━━━━━━━━━━━━━━━\u001b[0m \u001b[32m15.3/15.3 MB\u001b[0m \u001b[31m61.5 MB/s\u001b[0m eta \u001b[36m0:00:00\u001b[0m\n",
            "\u001b[2K     \u001b[90m━━━━━━━━━━━━━━━━━━━━━━━━━━━━━━━━━━━━━━━━\u001b[0m \u001b[32m9.1/9.1 MB\u001b[0m \u001b[31m3.5 MB/s\u001b[0m eta \u001b[36m0:00:00\u001b[0m\n",
            "\u001b[?25h"
          ]
        }
      ],
      "source": [
        "!pip install -q tensorflow tensorflow_decision_forests\n",
        "!pip install -q prettytable\n",
        "!pip install -q ydf -U -qq"
      ]
    },
    {
      "cell_type": "code",
      "execution_count": 13,
      "metadata": {
        "id": "lZc7f8goLgwt"
      },
      "outputs": [],
      "source": [
        "import tensorflow_decision_forests as tfdf\n",
        "import pandas as pd"
      ]
    },
    {
      "cell_type": "markdown",
      "metadata": {
        "id": "WFZtqvoaMLW-"
      },
      "source": [
        "# Prepare Data"
      ]
    },
    {
      "cell_type": "code",
      "execution_count": 14,
      "metadata": {
        "id": "nm-VF_u3Limu"
      },
      "outputs": [],
      "source": [
        "# Load a dataset in a Pandas dataframe\n",
        "train_data = pd.read_csv(\"./project/train.csv\")\n",
        "test_data = pd.read_csv(\"./project/test.csv\")"
      ]
    },
    {
      "cell_type": "code",
      "execution_count": 15,
      "metadata": {
        "colab": {
          "base_uri": "https://localhost:8080/"
        },
        "id": "afJvfYhwIT88",
        "outputId": "f6e28962-b7ab-4a2a-d530-09ceeac446e8"
      },
      "outputs": [
        {
          "name": "stdout",
          "output_type": "stream",
          "text": [
            "❌ Non-numeric values found in 'Price_PHP'.\n"
          ]
        }
      ],
      "source": [
        "# Check if there are any non-numeric values in the 'Price_PHP' column\n",
        "if train_data['Price_PHP'].apply(lambda x: isinstance(x, (int, float))).all():\n",
        "    print(\"✅ All values in 'Price_PHP' are numeric.\")\n",
        "else:\n",
        "    print(\"❌ Non-numeric values found in 'Price_PHP'.\")"
      ]
    },
    {
      "cell_type": "code",
      "execution_count": 16,
      "metadata": {
        "colab": {
          "base_uri": "https://localhost:8080/"
        },
        "id": "uQeoYor5SnRJ",
        "outputId": "e1afff6f-f19c-41d1-df26-03e08a615608"
      },
      "outputs": [
        {
          "name": "stdout",
          "output_type": "stream",
          "text": [
            "object\n"
          ]
        }
      ],
      "source": [
        "print(train_data['Price_PHP'].dtype)"
      ]
    },
    {
      "cell_type": "code",
      "execution_count": 17,
      "metadata": {
        "id": "-WxY-41_ImtD"
      },
      "outputs": [],
      "source": [
        "# Remove commas in 'Price_PHP' and convert it to float\n",
        "train_data['Price_PHP'] = train_data['Price_PHP'].str.replace(',', '').astype(float)"
      ]
    },
    {
      "cell_type": "code",
      "execution_count": 18,
      "metadata": {
        "colab": {
          "base_uri": "https://localhost:8080/"
        },
        "id": "-mTdFzYIIwt2",
        "outputId": "3cbcbaa5-6b77-422b-dbe4-fd3a067df8db"
      },
      "outputs": [
        {
          "name": "stdout",
          "output_type": "stream",
          "text": [
            "✅ All values in 'Price_PHP' are numeric.\n"
          ]
        }
      ],
      "source": [
        "# Check if there are any non-numeric values in the 'Price_PHP' column\n",
        "if train_data['Price_PHP'].apply(lambda x: isinstance(x, (int, float))).all():\n",
        "    print(\"✅ All values in 'Price_PHP' are numeric.\")\n",
        "else:\n",
        "    print(\"❌ Non-numeric values found in 'Price_PHP'.\")"
      ]
    },
    {
      "cell_type": "code",
      "execution_count": 19,
      "metadata": {
        "colab": {
          "base_uri": "https://localhost:8080/"
        },
        "id": "gv6wD2BnIzDe",
        "outputId": "d6afc7f2-0dc1-40f0-e629-3f5761b4e2c5"
      },
      "outputs": [
        {
          "name": "stdout",
          "output_type": "stream",
          "text": [
            "float64\n"
          ]
        }
      ],
      "source": [
        "print(train_data['Price_PHP'].dtype)"
      ]
    },
    {
      "cell_type": "code",
      "execution_count": 20,
      "metadata": {
        "id": "rihDwT4fI8Ps"
      },
      "outputs": [],
      "source": [
        "# Exclude 'Location' from the training data\n",
        "train_data = train_data.drop(['Location'], axis=1)"
      ]
    },
    {
      "cell_type": "code",
      "execution_count": 23,
      "metadata": {
        "colab": {
          "base_uri": "https://localhost:8080/"
        },
        "id": "4LqiKH3Xc2IC",
        "outputId": "567062bb-170e-4595-cac8-f2eab853b558"
      },
      "outputs": [
        {
          "data": {
            "text/plain": [
              "175265000.0"
            ]
          },
          "execution_count": 23,
          "metadata": {},
          "output_type": "execute_result"
        }
      ],
      "source": [
        "# hundred million\n",
        "train_data['Price_PHP'].max()"
      ]
    },
    {
      "cell_type": "code",
      "execution_count": 24,
      "metadata": {
        "colab": {
          "base_uri": "https://localhost:8080/"
        },
        "id": "sDkAe3CBc43x",
        "outputId": "2d3b1bf8-91f0-47e5-e160-89aea3374249"
      },
      "outputs": [
        {
          "data": {
            "text/plain": [
              "3297501.0"
            ]
          },
          "execution_count": 24,
          "metadata": {},
          "output_type": "execute_result"
        }
      ],
      "source": [
        "# million\n",
        "train_data['Price_PHP'].min()"
      ]
    },
    {
      "cell_type": "code",
      "execution_count": 22,
      "metadata": {
        "colab": {
          "base_uri": "https://localhost:8080/"
        },
        "id": "ue9aqmC0X5F5",
        "outputId": "b908a39e-990a-4c7b-ad45-dc0c49ff1bc5"
      },
      "outputs": [
        {
          "name": "stdout",
          "output_type": "stream",
          "text": [
            "Price range: 171967499.0\n"
          ]
        }
      ],
      "source": [
        "# Calculate the range of PHP_Price\n",
        "price_range = train_data['Price_PHP'].max() - train_data['Price_PHP'].min()\n",
        "print('Price range:', price_range)"
      ]
    },
    {
      "cell_type": "code",
      "execution_count": 11,
      "metadata": {
        "id": "-z1SHTofRLJ3"
      },
      "outputs": [],
      "source": [
        "# Convert the train data to tf.data.Dataset\n",
        "train_data = tfdf.keras.pd_dataframe_to_tf_dataset(train_data, task=tfdf.keras.Task.REGRESSION, label=\"Price_PHP\")"
      ]
    },
    {
      "cell_type": "markdown",
      "metadata": {
        "id": "GDShKTMHMih5"
      },
      "source": [
        "# Select and train model\n"
      ]
    },
    {
      "cell_type": "code",
      "execution_count": null,
      "metadata": {
        "colab": {
          "base_uri": "https://localhost:8080/"
        },
        "id": "8KIFq2L1IcK_",
        "outputId": "eefd7892-46ae-410f-dd51-426501327fa7"
      },
      "outputs": [
        {
          "name": "stdout",
          "output_type": "stream",
          "text": [
            "Use /tmp/tmpzsxkt3ho as temporary training directory\n",
            "Reading training dataset...\n",
            "Training dataset read in 0:00:00.315761. Found 281 examples.\n",
            "Training model...\n",
            "Model trained in 0:00:00.134474\n",
            "Compiling model...\n",
            "Model compiled.\n"
          ]
        },
        {
          "data": {
            "text/plain": [
              "<keras.src.callbacks.History at 0x78ea2925fa00>"
            ]
          },
          "execution_count": 58,
          "metadata": {},
          "output_type": "execute_result"
        }
      ],
      "source": [
        "# Create and train the model\n",
        "model = tfdf.keras.GradientBoostedTreesModel(task=tfdf.keras.Task.REGRESSION)\n",
        "model.fit(train_data)"
      ]
    },
    {
      "cell_type": "markdown",
      "metadata": {
        "id": "GvNZldQ6Q8uZ"
      },
      "source": [
        "The summary shows the model name, target column (Label) and source columns (a.k.a. input features)."
      ]
    },
    {
      "cell_type": "code",
      "execution_count": null,
      "metadata": {
        "colab": {
          "base_uri": "https://localhost:8080/"
        },
        "id": "_8eFqqGPL5kw",
        "outputId": "b22ee74d-a07e-4177-df5c-796fc5fad010"
      },
      "outputs": [
        {
          "name": "stdout",
          "output_type": "stream",
          "text": [
            "Model: \"gradient_boosted_trees_model_3\"\n",
            "_________________________________________________________________\n",
            " Layer (type)                Output Shape              Param #   \n",
            "=================================================================\n",
            "=================================================================\n",
            "Total params: 1 (1.00 Byte)\n",
            "Trainable params: 0 (0.00 Byte)\n",
            "Non-trainable params: 1 (1.00 Byte)\n",
            "_________________________________________________________________\n",
            "Type: \"GRADIENT_BOOSTED_TREES\"\n",
            "Task: REGRESSION\n",
            "Label: \"__LABEL\"\n",
            "\n",
            "Input Features (5):\n",
            "\tBath\n",
            "\tBedrooms\n",
            "\tFloor_area_sqm\n",
            "\tLatitude\n",
            "\tLongitude\n",
            "\n",
            "No weights\n",
            "\n",
            "Variable Importance: INV_MEAN_MIN_DEPTH:\n",
            "    1. \"Floor_area_sqm\"  0.625945 ################\n",
            "    2.       \"Latitude\"  0.278390 ##\n",
            "    3.           \"Bath\"  0.274422 ##\n",
            "    4.      \"Longitude\"  0.223111 \n",
            "    5.       \"Bedrooms\"  0.201398 \n",
            "\n",
            "Variable Importance: NUM_AS_ROOT:\n",
            "    1. \"Floor_area_sqm\" 29.000000 ################\n",
            "    2.           \"Bath\" 25.000000 #############\n",
            "    3.       \"Latitude\" 16.000000 ########\n",
            "    4.      \"Longitude\"  1.000000 \n",
            "\n",
            "Variable Importance: NUM_NODES:\n",
            "    1. \"Floor_area_sqm\" 474.000000 ################\n",
            "    2.       \"Latitude\" 117.000000 ###\n",
            "    3.      \"Longitude\" 114.000000 ###\n",
            "    4.           \"Bath\" 36.000000 \n",
            "    5.       \"Bedrooms\" 19.000000 \n",
            "\n",
            "Variable Importance: SUM_SCORE:\n",
            "    1. \"Floor_area_sqm\" 266305629372758624.000000 ################\n",
            "    2.           \"Bath\" 49226164362256256.000000 ##\n",
            "    3.       \"Latitude\" 13658096428105216.000000 \n",
            "    4.      \"Longitude\" 3308042219384320.000000 \n",
            "    5.       \"Bedrooms\" 745818144243968.000000 \n",
            "\n",
            "\n",
            "\n",
            "Loss: SQUARED_ERROR\n",
            "Validation loss value: 1.35035e+06\n",
            "Number of trees per iteration: 1\n",
            "Node format: NOT_SET\n",
            "Number of trees: 71\n",
            "Total number of nodes: 1591\n",
            "\n",
            "Number of nodes by tree:\n",
            "Count: 71 Average: 22.4085 StdDev: 8.5606\n",
            "Min: 11 Max: 37 Ignored: 0\n",
            "----------------------------------------------\n",
            "[ 11, 12) 13  18.31%  18.31% ##########\n",
            "[ 12, 13)  0   0.00%  18.31%\n",
            "[ 13, 15)  8  11.27%  29.58% ######\n",
            "[ 15, 16)  5   7.04%  36.62% ####\n",
            "[ 16, 17)  0   0.00%  36.62%\n",
            "[ 17, 19)  0   0.00%  36.62%\n",
            "[ 19, 20)  1   1.41%  38.03% #\n",
            "[ 20, 21)  0   0.00%  38.03%\n",
            "[ 21, 23)  3   4.23%  42.25% ##\n",
            "[ 23, 24)  4   5.63%  47.89% ###\n",
            "[ 24, 25)  0   0.00%  47.89%\n",
            "[ 25, 27) 10  14.08%  61.97% ########\n",
            "[ 27, 28)  6   8.45%  70.42% #####\n",
            "[ 28, 29)  0   0.00%  70.42%\n",
            "[ 29, 31)  7   9.86%  80.28% #####\n",
            "[ 31, 32)  2   2.82%  83.10% ##\n",
            "[ 32, 33)  0   0.00%  83.10%\n",
            "[ 33, 35)  2   2.82%  85.92% ##\n",
            "[ 35, 36)  9  12.68%  98.59% #######\n",
            "[ 36, 37]  1   1.41% 100.00% #\n",
            "\n",
            "Depth by leafs:\n",
            "Count: 831 Average: 4.24428 StdDev: 1.20937\n",
            "Min: 1 Max: 5 Ignored: 0\n",
            "----------------------------------------------\n",
            "[ 1, 2)  42   5.05%   5.05% #\n",
            "[ 2, 3)  72   8.66%  13.72% #\n",
            "[ 3, 4)  63   7.58%  21.30% #\n",
            "[ 4, 5) 118  14.20%  35.50% ##\n",
            "[ 5, 5] 536  64.50% 100.00% ##########\n",
            "\n",
            "Number of training obs by leaf:\n",
            "Count: 831 Average: 21.4452 StdDev: 32.3465\n",
            "Min: 5 Max: 209 Ignored: 0\n",
            "----------------------------------------------\n",
            "[   5,  15) 516  62.09%  62.09% ##########\n",
            "[  15,  25) 152  18.29%  80.39% ###\n",
            "[  25,  35)  44   5.29%  85.68% #\n",
            "[  35,  46)  47   5.66%  91.34% #\n",
            "[  46,  56)   6   0.72%  92.06%\n",
            "[  56,  66)   7   0.84%  92.90%\n",
            "[  66,  76)  18   2.17%  95.07%\n",
            "[  76,  87)   4   0.48%  95.55%\n",
            "[  87,  97)   2   0.24%  95.79%\n",
            "[  97, 107)   5   0.60%  96.39%\n",
            "[ 107, 117)   0   0.00%  96.39%\n",
            "[ 117, 128)   5   0.60%  96.99%\n",
            "[ 128, 138)   8   0.96%  97.95%\n",
            "[ 138, 148)   2   0.24%  98.19%\n",
            "[ 148, 158)   1   0.12%  98.32%\n",
            "[ 158, 169)   0   0.00%  98.32%\n",
            "[ 169, 179)   2   0.24%  98.56%\n",
            "[ 179, 189)   0   0.00%  98.56%\n",
            "[ 189, 199)   1   0.12%  98.68%\n",
            "[ 199, 209]  11   1.32% 100.00%\n",
            "\n",
            "Attribute in nodes:\n",
            "\t474 : Floor_area_sqm [NUMERICAL]\n",
            "\t117 : Latitude [NUMERICAL]\n",
            "\t114 : Longitude [NUMERICAL]\n",
            "\t36 : Bath [NUMERICAL]\n",
            "\t19 : Bedrooms [NUMERICAL]\n",
            "\n",
            "Attribute in nodes with depth <= 0:\n",
            "\t29 : Floor_area_sqm [NUMERICAL]\n",
            "\t25 : Bath [NUMERICAL]\n",
            "\t16 : Latitude [NUMERICAL]\n",
            "\t1 : Longitude [NUMERICAL]\n",
            "\n",
            "Attribute in nodes with depth <= 1:\n",
            "\t122 : Floor_area_sqm [NUMERICAL]\n",
            "\t30 : Bath [NUMERICAL]\n",
            "\t17 : Latitude [NUMERICAL]\n",
            "\t1 : Longitude [NUMERICAL]\n",
            "\t1 : Bedrooms [NUMERICAL]\n",
            "\n",
            "Attribute in nodes with depth <= 2:\n",
            "\t204 : Floor_area_sqm [NUMERICAL]\n",
            "\t43 : Latitude [NUMERICAL]\n",
            "\t32 : Bath [NUMERICAL]\n",
            "\t17 : Longitude [NUMERICAL]\n",
            "\t3 : Bedrooms [NUMERICAL]\n",
            "\n",
            "Attribute in nodes with depth <= 3:\n",
            "\t317 : Floor_area_sqm [NUMERICAL]\n",
            "\t70 : Latitude [NUMERICAL]\n",
            "\t58 : Longitude [NUMERICAL]\n",
            "\t36 : Bath [NUMERICAL]\n",
            "\t11 : Bedrooms [NUMERICAL]\n",
            "\n",
            "Attribute in nodes with depth <= 5:\n",
            "\t474 : Floor_area_sqm [NUMERICAL]\n",
            "\t117 : Latitude [NUMERICAL]\n",
            "\t114 : Longitude [NUMERICAL]\n",
            "\t36 : Bath [NUMERICAL]\n",
            "\t19 : Bedrooms [NUMERICAL]\n",
            "\n",
            "Condition type in nodes:\n",
            "\t760 : HigherCondition\n",
            "Condition type in nodes with depth <= 0:\n",
            "\t71 : HigherCondition\n",
            "Condition type in nodes with depth <= 1:\n",
            "\t171 : HigherCondition\n",
            "Condition type in nodes with depth <= 2:\n",
            "\t299 : HigherCondition\n",
            "Condition type in nodes with depth <= 3:\n",
            "\t492 : HigherCondition\n",
            "Condition type in nodes with depth <= 5:\n",
            "\t760 : HigherCondition\n",
            "\n",
            "Training logs:\n",
            "Number of iteration to final model: 71\n",
            "\tIter:1 train-loss:15349032.000000 valid-loss:17233108.000000  train-rmse:15349032.000000 valid-rmse:17233108.000000\n",
            "\tIter:2 train-loss:14169868.000000 valid-loss:15809371.000000  train-rmse:14169868.000000 valid-rmse:15809371.000000\n",
            "\tIter:3 train-loss:13137750.000000 valid-loss:14531990.000000  train-rmse:13137750.000000 valid-rmse:14531990.000000\n",
            "\tIter:4 train-loss:12237583.000000 valid-loss:13386223.000000  train-rmse:12237583.000000 valid-rmse:13386223.000000\n",
            "\tIter:5 train-loss:11457060.000000 valid-loss:12359249.000000  train-rmse:11457060.000000 valid-rmse:12359249.000000\n",
            "\tIter:6 train-loss:10783477.000000 valid-loss:11446150.000000  train-rmse:10783477.000000 valid-rmse:11446150.000000\n",
            "\tIter:16 train-loss:7687801.000000 valid-loss:6293320.000000  train-rmse:7687801.000000 valid-rmse:6293320.000000\n",
            "\tIter:26 train-loss:6889090.000000 valid-loss:4294452.000000  train-rmse:6889090.000000 valid-rmse:4294452.000000\n",
            "\tIter:36 train-loss:6398819.500000 valid-loss:3150482.000000  train-rmse:6398819.500000 valid-rmse:3150482.000000\n",
            "\tIter:46 train-loss:5953661.500000 valid-loss:2339658.000000  train-rmse:5953661.500000 valid-rmse:2339658.000000\n",
            "\tIter:56 train-loss:5647630.500000 valid-loss:1699617.375000  train-rmse:5647630.500000 valid-rmse:1699617.375000\n",
            "\tIter:66 train-loss:5211303.000000 valid-loss:1406357.750000  train-rmse:5211303.000000 valid-rmse:1406357.750000\n",
            "\tIter:76 train-loss:5001072.500000 valid-loss:1375961.125000  train-rmse:5001072.500000 valid-rmse:1375961.125000\n",
            "\tIter:86 train-loss:4681311.500000 valid-loss:1825604.750000  train-rmse:4681311.500000 valid-rmse:1825604.750000\n",
            "\tIter:96 train-loss:4419841.500000 valid-loss:2357513.500000  train-rmse:4419841.500000 valid-rmse:2357513.500000\n",
            "\n"
          ]
        }
      ],
      "source": [
        "# Summary of the model structure\n",
        "model.summary()"
      ]
    },
    {
      "cell_type": "markdown",
      "metadata": {
        "id": "BT09On45LyBD"
      },
      "source": [
        "## Predict on test data - never before seen"
      ]
    },
    {
      "cell_type": "code",
      "execution_count": null,
      "metadata": {
        "colab": {
          "base_uri": "https://localhost:8080/"
        },
        "id": "ER983mRSJnTb",
        "outputId": "4272ce71-ee3a-4136-88ce-d695ba394f80"
      },
      "outputs": [
        {
          "name": "stdout",
          "output_type": "stream",
          "text": [
            "1/1 [==============================] - 0s 85ms/step\n",
            "+-------+---------------+----------+------+----------------+-----------+------------+------------------------+\n",
            "| Index |    Location   | Bedrooms | Bath | Floor_area_sqm |  Latitude | Longitude  | Prediction (Price_PHP) |\n",
            "+-------+---------------+----------+------+----------------+-----------+------------+------------------------+\n",
            "|   0   | Oranbo, Pasig |    2     |  2   |      104       | 14.575822 | 121.064324 |       32212794.0       |\n",
            "+-------+---------------+----------+------+----------------+-----------+------------+------------------------+\n"
          ]
        }
      ],
      "source": [
        "from prettytable import PrettyTable\n",
        "\n",
        "# List of indices you want to predict on\n",
        "indices = [0]  # replace with your indices\n",
        "\n",
        "for index in indices:\n",
        "    # Initialize the PrettyTable\n",
        "    table = PrettyTable()\n",
        "    table.field_names = [\"Index\", \"Location\", \"Bedrooms\", \"Bath\", \"Floor_area_sqm\", \"Latitude\", \"Longitude\", \"Prediction (Price_PHP)\"]\n",
        "\n",
        "    single_test_data = test_data.iloc[[index]]\n",
        "    single_test_data_tf = tfdf.keras.pd_dataframe_to_tf_dataset(single_test_data, task=tfdf.keras.Task.REGRESSION)\n",
        "    prediction = model.predict(single_test_data_tf)\n",
        "    table.add_row([\n",
        "        index,\n",
        "        single_test_data['Location'].values[0],\n",
        "        single_test_data['Bedrooms'].values[0],\n",
        "        single_test_data['Bath'].values[0],\n",
        "        single_test_data['Floor_area_sqm'].values[0],\n",
        "        single_test_data['Latitude'].values[0],\n",
        "        single_test_data['Longitude'].values[0],\n",
        "        prediction[0][0]\n",
        "    ])\n",
        "\n",
        "    print(table)"
      ]
    },
    {
      "cell_type": "markdown",
      "metadata": {
        "id": "EG4ZvmNRM_iB"
      },
      "source": [
        "# Save the model"
      ]
    },
    {
      "cell_type": "code",
      "execution_count": null,
      "metadata": {
        "id": "gfHmOMP3L8Ig"
      },
      "outputs": [],
      "source": [
        "model.save(\"./project/pasig-model\")"
      ]
    },
    {
      "cell_type": "markdown",
      "metadata": {
        "id": "220181sHM7G5"
      },
      "source": [
        "# Evaluate the model"
      ]
    },
    {
      "cell_type": "markdown",
      "metadata": {
        "id": "YtqizE9yQk_5"
      },
      "source": [
        "- **Model**: The model tab shows the model summary which are model's name, target column and source columns (a.k.a. input features).\n",
        "\n",
        "- **Training (Quality)**: The training tab shows how good the model performs by reporting the model’s evaluation metrics computed during training on the validation data (or something equivalent).\n",
        "\n",
        "- **Dataspec**: The dataset tab shows data specification or statistics about the columns in the dataset.\n",
        "\n",
        "- **Variable importance**: What input features matter to the model.\n",
        "\n",
        "- **Structure**: The structure tab shows the representation of the model.\n"
      ]
    },
    {
      "cell_type": "code",
      "execution_count": null,
      "metadata": {
        "colab": {
          "base_uri": "https://localhost:8080/",
          "height": 229
        },
        "id": "Wn920Bly3zZL",
        "outputId": "4c2ceb89-0687-49ac-814a-b6adcfb71472"
      },
      "outputs": [
        {
          "data": {
            "text/html": [
              "\n",
              "<style>\n",
              "\n",
              ".tab_block .header {\n",
              "    flex-direction: row;\n",
              "    display: flex;\n",
              "}\n",
              "\n",
              ".tab_block .header .tab {\n",
              "    cursor: pointer;\n",
              "    background-color: #F6F5F5;\n",
              "    text-decoration: none;\n",
              "    text-align: center;\n",
              "    padding: 4px 12px;\n",
              "    color: black;\n",
              "}\n",
              "\n",
              ".tab_block .header .tab.selected {\n",
              "    border-bottom: 2px solid #2F80ED;\n",
              "}\n",
              "\n",
              ".tab_block .header .tab:hover {\n",
              "    text-decoration: none;\n",
              "    background-color: #DCDCDC;\n",
              "}\n",
              "\n",
              ".tab_block .body .tab_content {\n",
              "    display: none;\n",
              "    padding: 5px;\n",
              "}\n",
              "\n",
              ".tab_block .body .tab_content.selected {\n",
              "    display: block;\n",
              "}\n",
              "\n",
              ".ydf_pre {\n",
              "    font-size: medium;\n",
              "}\n",
              "\n",
              "\n",
              "\n",
              ".variable_importance {\n",
              "}\n",
              "\n",
              ".variable_importance select {\n",
              "}\n",
              "\n",
              ".variable_importance .content {\n",
              "  display: none;\n",
              "}\n",
              "\n",
              ".variable_importance .content.selected {\n",
              "  display: block;\n",
              "}\n",
              "\n",
              ".ydf_tuning_table {\n",
              "  border-collapse: collapse;\n",
              "  border: 1px solid lightgray;\n",
              "}\n",
              "\n",
              ".ydf_tuning_table th {\n",
              "  background-color: #ededed;\n",
              "  font-weight: bold;\n",
              "  text-align: left;\n",
              "  padding: 3px 4px;\n",
              "  border: 1px solid lightgray;\n",
              "}\n",
              "\n",
              ".ydf_tuning_table td {\n",
              "  text-align: right;\n",
              "  padding: 3px 4px;\n",
              "  border: 1px solid lightgray;\n",
              "}\n",
              "\n",
              ".ydf_tuning_table .best {\n",
              "  background-color: khaki;\n",
              "}\n",
              "\n",
              "</style>\n",
              "\n",
              "<script>\n",
              "\n",
              "function ydfShowTab(block_id, item) {\n",
              "    const block = document.getElementById(block_id);\n",
              "    \n",
              "    \n",
              "    console.log(\"HIDE first of:\",block.getElementsByClassName(\"tab selected\"));\n",
              "    console.log(\"HIDE first of:\",block.getElementsByClassName(\"tab_content selected\"));\n",
              "    \n",
              "    block.getElementsByClassName(\"tab selected\")[0].classList.remove(\"selected\");\n",
              "    block.getElementsByClassName(\"tab_content selected\")[0].classList.remove(\"selected\");\n",
              "    document.getElementById(block_id + \"_\" + item).classList.add(\"selected\");\n",
              "    document.getElementById(block_id + \"_body_\" + item).classList.add(\"selected\");\n",
              "}\n",
              "  \n",
              "\n",
              "function ydfShowVariableImportance(block_id) {\n",
              "    const block = document.getElementById(block_id);\n",
              "    const item = block.getElementsByTagName(\"select\")[0].value;\n",
              "    block.getElementsByClassName(\"content selected\")[0].classList.remove(\"selected\");\n",
              "    document.getElementById(block_id + \"_body_\" + item).classList.add(\"selected\");\n",
              "}\n",
              "\n",
              "</script>\n",
              "  <div class=\"tab_block\" id=\"a456-46f3-1ada-2bce\"><div class=\"header\"><a id=\"a456-46f3-1ada-2bce_model\" class=\"tab selected\" onclick=\"ydfShowTab('a456-46f3-1ada-2bce', 'model')\">Model</a><a id=\"a456-46f3-1ada-2bce_dataspec\" class=\"tab\" onclick=\"ydfShowTab('a456-46f3-1ada-2bce', 'dataspec')\">Dataspec</a><a id=\"a456-46f3-1ada-2bce_training\" class=\"tab\" onclick=\"ydfShowTab('a456-46f3-1ada-2bce', 'training')\">Training</a><a id=\"a456-46f3-1ada-2bce_variable_importance\" class=\"tab\" onclick=\"ydfShowTab('a456-46f3-1ada-2bce', 'variable_importance')\">Variable importances</a><a id=\"a456-46f3-1ada-2bce_structure\" class=\"tab\" onclick=\"ydfShowTab('a456-46f3-1ada-2bce', 'structure')\">Structure</a></div><div class=\"body\"><div id=\"a456-46f3-1ada-2bce_body_model\" class=\"tab_content selected\"><b>Name</b> : GRADIENT_BOOSTED_TREES<br><b>Task</b> : REGRESSION<br><b>Label</b> : __LABEL<br><b>Features (5)</b> : Bath Bedrooms Floor_area_sqm Latitude Longitude<br><b>Weights</b> : None<br><b>Trained with tuner</b> : No<br><b>Model size</b> : 380 kB<br></div><div id=\"a456-46f3-1ada-2bce_body_dataspec\" class=\"tab_content\"><pre class=\"ydf_pre\">Number of records: 281\n",
              "Number of columns: 6\n",
              "\n",
              "Number of columns by type:\n",
              "\tNUMERICAL: 6 (100%)\n",
              "\n",
              "Columns:\n",
              "\n",
              "NUMERICAL: 6 (100%)\n",
              "\t0: &quot;Bath&quot; NUMERICAL mean:1.31317 min:1 max:4 sd:0.554635\n",
              "\t1: &quot;Bedrooms&quot; NUMERICAL mean:1.41637 min:1 max:4 sd:0.654263\n",
              "\t2: &quot;Floor_area_sqm&quot; NUMERICAL mean:72.0783 min:22 max:409 sd:39.5983\n",
              "\t3: &quot;Latitude&quot; NUMERICAL mean:14.5813 min:14.5555 max:14.6019 sd:0.00726946\n",
              "\t4: &quot;Longitude&quot; NUMERICAL mean:121.065 min:121.059 max:121.094 sd:0.00700286\n",
              "\t5: &quot;__LABEL&quot; NUMERICAL mean:2.24128e+07 min:3.2975e+06 max:1.75265e+08 sd:1.69264e+07\n",
              "\n",
              "Terminology:\n",
              "\tnas: Number of non-available (i.e. missing) values.\n",
              "\tood: Out of dictionary.\n",
              "\tmanually-defined: Attribute whose type is manually defined by the user, i.e., the type was not automatically inferred.\n",
              "\ttokenized: The attribute value is obtained through tokenization.\n",
              "\thas-dict: The attribute is attached to a string dictionary e.g. a categorical attribute stored as a string.\n",
              "\tvocab-size: Number of unique values.\n",
              "</pre></div><div id=\"a456-46f3-1ada-2bce_body_training\" class=\"tab_content\"><p>The following evaluation is computed on the validation or out-of-bag dataset.</p><pre class=\"ydf_pre\">Number of predictions (with weights): 1\n",
              "Task: REGRESSION\n",
              "Loss (SQUARED_ERROR): 1.35035e+06\n",
              "\n",
              "RMSE: 1162.05\n",
              "Default RMSE: : 0\n",
              "</pre><div style='display: grid; gap: 0px; grid-auto-columns: min-content;'><div style='grid-row:1 / span 1; grid-column:1 / span 1;'><script src='https://www.gstatic.com/external_hosted/plotly/plotly.min.js'></script>\n",
              "<div id=\"chart_a456_46f3_1ada_2bceself_eval_item0\" style=\"display: inline-block;\" ></div>\n",
              "<script>\n",
              "  Plotly.newPlot(\n",
              "    'chart_a456_46f3_1ada_2bceself_eval_item0',\n",
              "    [{\n",
              "x: [1,2,3,4,5,6,7,8,9,10,11,12,13,14,15,16,17,18,19,20,21,22,23,24,25,26,27,28,29,30,31,32,33,34,35,36,37,38,39,40,41,42,43,44,45,46,47,48,49,50,51,52,53,54,55,56,57,58,59,60,61,62,63,64,65,66,67,68,69,70,71,72,73,74,75,76,77,78,79,80,81,82,83,84,85,86,87,88,89,90,91,92,93,94,95,96,97,98,99,100,101],\n",
              "y: [1.5349e+07,1.41699e+07,1.31378e+07,1.22376e+07,1.14571e+07,1.07835e+07,1.02049e+07,9.71102e+06,9.29085e+06,8.93621e+06,8.63867e+06,8.37694e+06,8.15661e+06,7.96985e+06,7.81762e+06,7.6878e+06,7.5803e+06,7.49091e+06,7.41562e+06,7.3539e+06,7.1868e+06,7.13697e+06,7.09605e+06,6.95548e+06,6.91897e+06,6.88909e+06,6.76426e+06,6.73578e+06,6.7125e+06,6.69364e+06,6.57614e+06,6.55595e+06,6.53931e+06,6.43233e+06,6.41384e+06,6.39882e+06,6.30049e+06,6.28309e+06,6.26895e+06,6.17763e+06,6.16104e+06,6.14769e+06,6.06224e+06,6.04638e+06,6.0335e+06,5.95366e+06,5.9384e+06,5.92598e+06,5.85103e+06,5.83637e+06,5.82444e+06,5.7529e+06,5.73881e+06,5.72736e+06,5.66109e+06,5.64763e+06,5.63668e+06,5.5733e+06,5.56045e+06,5.54996e+06,5.49108e+06,5.47881e+06,5.46884e+06,5.27712e+06,5.26798e+06,5.2113e+06,5.20161e+06,5.19276e+06,5.13933e+06,5.12976e+06,5.122e+06,5.07296e+06,5.06368e+06,5.05614e+06,5.01004e+06,5.00107e+06,4.99378e+06,4.84041e+06,4.83315e+06,4.78883e+06,4.78047e+06,4.74109e+06,4.7328e+06,4.72553e+06,4.68925e+06,4.68131e+06,4.67488e+06,4.64058e+06,4.63306e+06,4.62695e+06,4.50342e+06,4.49722e+06,4.4636e+06,4.45657e+06,4.42644e+06,4.41984e+06,4.4133e+06,4.38492e+06,4.37791e+06,4.3722e+06,4.34539e+06],\n",
              "type: 'scatter',\n",
              "mode: 'lines',\n",
              "line: {\n",
              "  dash: 'solid',\n",
              "  width: 1\n",
              "},\n",
              "name: 'training',\n",
              "},\n",
              "{\n",
              "x: [1,2,3,4,5,6,7,8,9,10,11,12,13,14,15,16,17,18,19,20,21,22,23,24,25,26,27,28,29,30,31,32,33,34,35,36,37,38,39,40,41,42,43,44,45,46,47,48,49,50,51,52,53,54,55,56,57,58,59,60,61,62,63,64,65,66,67,68,69,70,71,72,73,74,75,76,77,78,79,80,81,82,83,84,85,86,87,88,89,90,91,92,93,94,95,96,97,98,99,100,101],\n",
              "y: [1.72331e+07,1.58094e+07,1.4532e+07,1.33862e+07,1.23592e+07,1.14462e+07,1.06215e+07,9.89347e+06,9.23256e+06,8.64225e+06,8.12457e+06,7.76061e+06,7.33949e+06,6.94596e+06,6.61324e+06,6.29332e+06,6.00435e+06,5.76017e+06,5.52465e+06,5.3139e+06,5.12402e+06,4.92878e+06,4.75438e+06,4.60395e+06,4.44107e+06,4.29445e+06,4.17065e+06,4.02572e+06,3.8981e+06,3.78046e+06,3.67606e+06,3.55548e+06,3.44951e+06,3.35932e+06,3.2483e+06,3.15048e+06,3.07161e+06,2.97105e+06,2.87999e+06,2.80936e+06,2.71738e+06,2.63449e+06,2.56905e+06,2.47802e+06,2.39717e+06,2.33966e+06,2.25591e+06,2.18089e+06,2.12731e+06,2.05157e+06,1.9862e+06,1.9391e+06,1.86926e+06,1.8063e+06,1.76396e+06,1.69962e+06,1.64523e+06,1.60725e+06,1.55298e+06,1.50588e+06,1.47876e+06,1.43057e+06,1.39227e+06,1.44774e+06,1.42637e+06,1.40636e+06,1.3896e+06,1.37732e+06,1.36298e+06,1.35472e+06,1.35035e+06,1.35101e+06,1.3533e+06,1.35687e+06,1.36605e+06,1.37596e+06,1.38658e+06,1.66174e+06,1.67969e+06,1.69074e+06,1.71197e+06,1.72583e+06,1.75254e+06,1.77495e+06,1.79566e+06,1.8256e+06,1.85344e+06,1.87605e+06,1.90763e+06,1.93705e+06,2.22254e+06,2.2518e+06,2.27246e+06,2.3029e+06,2.32316e+06,2.35751e+06,2.38704e+06,2.41089e+06,2.44567e+06,2.47741e+06,2.50184e+06],\n",
              "type: 'scatter',\n",
              "mode: 'lines',\n",
              "line: {\n",
              "  dash: 'solid',\n",
              "  width: 1\n",
              "},\n",
              "name: 'validation',\n",
              "},\n",
              "],\n",
              "    {\n",
              "      width: 600,\n",
              "      height: 400,\n",
              "      title: '',\n",
              "      showlegend: true,\n",
              "      xaxis: {\n",
              "        ticks: 'outside',\n",
              "        showgrid: true,\n",
              "        zeroline: false,\n",
              "        showline: true,\n",
              "        title: 'iteration',\n",
              "        },\n",
              "      font: {\n",
              "        size: 10,\n",
              "        },\n",
              "      yaxis: {\n",
              "        ticks: 'outside',\n",
              "        showgrid: true,\n",
              "        zeroline: false,\n",
              "        showline: true,\n",
              "        title: 'loss',\n",
              "        },\n",
              "      margin: {\n",
              "        l: 50,\n",
              "        r: 50,\n",
              "        b: 50,\n",
              "        t: 50,\n",
              "      },\n",
              "    },\n",
              "    {\n",
              "      modeBarButtonsToRemove: ['sendDataToCloud'],\n",
              "      displaylogo: false,displayModeBar: false,\n",
              "    }\n",
              "  );\n",
              "</script>\n",
              "</div><div style='grid-row:2 / span 1; grid-column:1 / span 1;'>\n",
              "<div id=\"chart_a456_46f3_1ada_2bceself_eval_item1\" style=\"display: inline-block;\" ></div>\n",
              "<script>\n",
              "  Plotly.newPlot(\n",
              "    'chart_a456_46f3_1ada_2bceself_eval_item1',\n",
              "    [{\n",
              "x: [1,2,3,4,5,6,7,8,9,10,11,12,13,14,15,16,17,18,19,20,21,22,23,24,25,26,27,28,29,30,31,32,33,34,35,36,37,38,39,40,41,42,43,44,45,46,47,48,49,50,51,52,53,54,55,56,57,58,59,60,61,62,63,64,65,66,67,68,69,70,71,72,73,74,75,76,77,78,79,80,81,82,83,84,85,86,87,88,89,90,91,92,93,94,95,96,97,98,99,100,101],\n",
              "y: [1.5349e+07,1.41699e+07,1.31378e+07,1.22376e+07,1.14571e+07,1.07835e+07,1.02049e+07,9.71102e+06,9.29085e+06,8.93621e+06,8.63867e+06,8.37694e+06,8.15661e+06,7.96985e+06,7.81762e+06,7.6878e+06,7.5803e+06,7.49091e+06,7.41562e+06,7.3539e+06,7.1868e+06,7.13697e+06,7.09605e+06,6.95548e+06,6.91897e+06,6.88909e+06,6.76426e+06,6.73578e+06,6.7125e+06,6.69364e+06,6.57614e+06,6.55595e+06,6.53931e+06,6.43233e+06,6.41384e+06,6.39882e+06,6.30049e+06,6.28309e+06,6.26895e+06,6.17763e+06,6.16104e+06,6.14769e+06,6.06224e+06,6.04638e+06,6.0335e+06,5.95366e+06,5.9384e+06,5.92598e+06,5.85103e+06,5.83637e+06,5.82444e+06,5.7529e+06,5.73881e+06,5.72736e+06,5.66109e+06,5.64763e+06,5.63668e+06,5.5733e+06,5.56045e+06,5.54996e+06,5.49108e+06,5.47881e+06,5.46884e+06,5.27712e+06,5.26798e+06,5.2113e+06,5.20161e+06,5.19276e+06,5.13933e+06,5.12976e+06,5.122e+06,5.07296e+06,5.06368e+06,5.05614e+06,5.01004e+06,5.00107e+06,4.99378e+06,4.84041e+06,4.83315e+06,4.78883e+06,4.78047e+06,4.74109e+06,4.7328e+06,4.72553e+06,4.68925e+06,4.68131e+06,4.67488e+06,4.64058e+06,4.63306e+06,4.62695e+06,4.50342e+06,4.49722e+06,4.4636e+06,4.45657e+06,4.42644e+06,4.41984e+06,4.4133e+06,4.38492e+06,4.37791e+06,4.3722e+06,4.34539e+06],\n",
              "type: 'scatter',\n",
              "mode: 'lines',\n",
              "line: {\n",
              "  dash: 'solid',\n",
              "  width: 1\n",
              "},\n",
              "name: 'training',\n",
              "},\n",
              "{\n",
              "x: [1,2,3,4,5,6,7,8,9,10,11,12,13,14,15,16,17,18,19,20,21,22,23,24,25,26,27,28,29,30,31,32,33,34,35,36,37,38,39,40,41,42,43,44,45,46,47,48,49,50,51,52,53,54,55,56,57,58,59,60,61,62,63,64,65,66,67,68,69,70,71,72,73,74,75,76,77,78,79,80,81,82,83,84,85,86,87,88,89,90,91,92,93,94,95,96,97,98,99,100,101],\n",
              "y: [1.72331e+07,1.58094e+07,1.4532e+07,1.33862e+07,1.23592e+07,1.14462e+07,1.06215e+07,9.89347e+06,9.23256e+06,8.64225e+06,8.12457e+06,7.76061e+06,7.33949e+06,6.94596e+06,6.61324e+06,6.29332e+06,6.00435e+06,5.76017e+06,5.52465e+06,5.3139e+06,5.12402e+06,4.92878e+06,4.75438e+06,4.60395e+06,4.44107e+06,4.29445e+06,4.17065e+06,4.02572e+06,3.8981e+06,3.78046e+06,3.67606e+06,3.55548e+06,3.44951e+06,3.35932e+06,3.2483e+06,3.15048e+06,3.07161e+06,2.97105e+06,2.87999e+06,2.80936e+06,2.71738e+06,2.63449e+06,2.56905e+06,2.47802e+06,2.39717e+06,2.33966e+06,2.25591e+06,2.18089e+06,2.12731e+06,2.05157e+06,1.9862e+06,1.9391e+06,1.86926e+06,1.8063e+06,1.76396e+06,1.69962e+06,1.64523e+06,1.60725e+06,1.55298e+06,1.50588e+06,1.47876e+06,1.43057e+06,1.39227e+06,1.44774e+06,1.42637e+06,1.40636e+06,1.3896e+06,1.37732e+06,1.36298e+06,1.35472e+06,1.35035e+06,1.35101e+06,1.3533e+06,1.35687e+06,1.36605e+06,1.37596e+06,1.38658e+06,1.66174e+06,1.67969e+06,1.69074e+06,1.71197e+06,1.72583e+06,1.75254e+06,1.77495e+06,1.79566e+06,1.8256e+06,1.85344e+06,1.87605e+06,1.90763e+06,1.93705e+06,2.22254e+06,2.2518e+06,2.27246e+06,2.3029e+06,2.32316e+06,2.35751e+06,2.38704e+06,2.41089e+06,2.44567e+06,2.47741e+06,2.50184e+06],\n",
              "type: 'scatter',\n",
              "mode: 'lines',\n",
              "line: {\n",
              "  dash: 'solid',\n",
              "  width: 1\n",
              "},\n",
              "name: 'validation',\n",
              "},\n",
              "],\n",
              "    {\n",
              "      width: 600,\n",
              "      height: 400,\n",
              "      title: '',\n",
              "      showlegend: true,\n",
              "      xaxis: {\n",
              "        ticks: 'outside',\n",
              "        showgrid: true,\n",
              "        zeroline: false,\n",
              "        showline: true,\n",
              "        title: 'iteration',\n",
              "        },\n",
              "      font: {\n",
              "        size: 10,\n",
              "        },\n",
              "      yaxis: {\n",
              "        ticks: 'outside',\n",
              "        showgrid: true,\n",
              "        zeroline: false,\n",
              "        showline: true,\n",
              "        title: 'rmse',\n",
              "        },\n",
              "      margin: {\n",
              "        l: 50,\n",
              "        r: 50,\n",
              "        b: 50,\n",
              "        t: 50,\n",
              "      },\n",
              "    },\n",
              "    {\n",
              "      modeBarButtonsToRemove: ['sendDataToCloud'],\n",
              "      displaylogo: false,displayModeBar: false,\n",
              "    }\n",
              "  );\n",
              "</script>\n",
              "</div></div></div><div id=\"a456-46f3-1ada-2bce_body_variable_importance\" class=\"tab_content\"><p><a target=\"_blank\" href=\"https://ydf.readthedocs.io/en/latest/cli_user_manual#variable-importances\">Variable importances</a> measure the importance of an input feature for a model.</p><div id=\"a456-46f3-1ada-2bce_vi\" class=\"variable_importance\"><select onchange=\"ydfShowVariableImportance('a456-46f3-1ada-2bce_vi')\"><option value=\"INV_MEAN_MIN_DEPTH\">INV_MEAN_MIN_DEPTH</option><option value=\"NUM_AS_ROOT\">NUM_AS_ROOT</option><option value=\"NUM_NODES\">NUM_NODES</option><option value=\"SUM_SCORE\">SUM_SCORE</option></select><div id=\"a456-46f3-1ada-2bce_vi_body_INV_MEAN_MIN_DEPTH\" class=\"content selected\"><pre class=\"ydf_pre\">    1. &quot;Floor_area_sqm&quot;  0.625945 ################\n",
              "    2.       &quot;Latitude&quot;  0.278390 ##\n",
              "    3.           &quot;Bath&quot;  0.274422 ##\n",
              "    4.      &quot;Longitude&quot;  0.223111 \n",
              "    5.       &quot;Bedrooms&quot;  0.201398 \n",
              "</pre></div><div id=\"a456-46f3-1ada-2bce_vi_body_NUM_AS_ROOT\" class=\"content\"><pre class=\"ydf_pre\">    1. &quot;Floor_area_sqm&quot; 29.000000 ################\n",
              "    2.           &quot;Bath&quot; 25.000000 #############\n",
              "    3.       &quot;Latitude&quot; 16.000000 ########\n",
              "    4.      &quot;Longitude&quot;  1.000000 \n",
              "</pre></div><div id=\"a456-46f3-1ada-2bce_vi_body_NUM_NODES\" class=\"content\"><pre class=\"ydf_pre\">    1. &quot;Floor_area_sqm&quot; 474.000000 ################\n",
              "    2.       &quot;Latitude&quot; 117.000000 ###\n",
              "    3.      &quot;Longitude&quot; 114.000000 ###\n",
              "    4.           &quot;Bath&quot; 36.000000 \n",
              "    5.       &quot;Bedrooms&quot; 19.000000 \n",
              "</pre></div><div id=\"a456-46f3-1ada-2bce_vi_body_SUM_SCORE\" class=\"content\"><pre class=\"ydf_pre\">    1. &quot;Floor_area_sqm&quot; 266305629372758624.000000 ################\n",
              "    2.           &quot;Bath&quot; 49226164362256256.000000 ##\n",
              "    3.       &quot;Latitude&quot; 13658096428105216.000000 \n",
              "    4.      &quot;Longitude&quot; 3308042219384320.000000 \n",
              "    5.       &quot;Bedrooms&quot; 745818144243968.000000 \n",
              "</pre></div></div><p>Those variable importances are computed during training. More, and possibly more informative, variable importances are available when analyzing a model on a test dataset.</p></div><div id=\"a456-46f3-1ada-2bce_body_structure\" class=\"tab_content\"><b>Num trees</b> : 71<br><p>Only printing the first tree.</p><pre class=\"ydf_pre\">Tree #0:\n",
              "    &quot;Floor_area_sqm&quot;&gt;=103 [s:1.25193e+14 n:251 np:54 miss:0] ; pred:0.00438247\n",
              "        ├─(pos)─ &quot;Floor_area_sqm&quot;&gt;=145 [s:2.91493e+14 n:54 np:6 miss:0] ; pred:2.13711e+06\n",
              "        |        ├─(pos)─ pred:6.96613e+06\n",
              "        |        └─(neg)─ &quot;Latitude&quot;&gt;=14.5861 [s:2.70607e+13 n:48 np:22 miss:0] ; pred:1.53348e+06\n",
              "        |                 ├─(pos)─ &quot;Floor_area_sqm&quot;&gt;=113 [s:1.60242e+12 n:22 np:16 miss:0] ; pred:2.099e+06\n",
              "        |                 |        ├─(pos)─ pred:2.02148e+06\n",
              "        |                 |        └─(neg)─ pred:2.30571e+06\n",
              "        |                 └─(neg)─ &quot;Longitude&quot;&gt;=121.064 [s:3.92019e+12 n:26 np:21 miss:1] ; pred:1.05497e+06\n",
              "        |                          ├─(pos)─ &quot;Floor_area_sqm&quot;&gt;=105 [s:4.17262e+12 n:21 np:10 miss:0] ; pred:1.15158e+06\n",
              "        |                          |        ├─(pos)─ pred:1.36582e+06\n",
              "        |                          |        └─(neg)─ pred:956815\n",
              "        |                          └─(neg)─ pred:649198\n",
              "        └─(neg)─ &quot;Floor_area_sqm&quot;&gt;=64.5 [s:3.25839e+13 n:197 np:86 miss:1] ; pred:-585806\n",
              "                 ├─(pos)─ &quot;Latitude&quot;&gt;=14.5861 [s:5.58701e+12 n:86 np:25 miss:0] ; pred:62699\n",
              "                 |        ├─(pos)─ &quot;Floor_area_sqm&quot;&gt;=72 [s:3.30223e+11 n:25 np:15 miss:1] ; pred:431918\n",
              "                 |        |        ├─(pos)─ &quot;Floor_area_sqm&quot;&gt;=81.5 [s:6.7712e+10 n:15 np:10 miss:0] ; pred:384998\n",
              "                 |        |        |        ├─(pos)─ pred:366598\n",
              "                 |        |        |        └─(neg)─ pred:421798\n",
              "                 |        |        └─(neg)─ pred:502298\n",
              "                 |        └─(neg)─ &quot;Floor_area_sqm&quot;&gt;=75 [s:1.15195e+12 n:61 np:13 miss:0] ; pred:-88620.4\n",
              "                 |                 ├─(pos)─ &quot;Bedrooms&quot;&gt;=2.5 [s:5.49105e+11 n:13 np:8 miss:0] ; pred:117616\n",
              "                 |                 |        ├─(pos)─ pred:59033.4\n",
              "                 |                 |        └─(neg)─ pred:211348\n",
              "                 |                 └─(neg)─ &quot;Latitude&quot;&gt;=14.5784 [s:3.16586e+12 n:48 np:10 miss:1] ; pred:-144476\n",
              "                 |                          ├─(pos)─ pred:-491323\n",
              "                 |                          └─(neg)─ pred:-53200.5\n",
              "                 └─(neg)─ &quot;Floor_area_sqm&quot;&gt;=37.5 [s:4.25195e+12 n:111 np:93 miss:1] ; pred:-1.08825e+06\n",
              "                          ├─(pos)─ &quot;Floor_area_sqm&quot;&gt;=55 [s:2.45158e+12 n:93 np:22 miss:1] ; pred:-997535\n",
              "                          |        ├─(pos)─ &quot;Longitude&quot;&gt;=121.069 [s:7.33772e+11 n:22 np:14 miss:0] ; pred:-716253\n",
              "                          |        |        ├─(pos)─ pred:-651500\n",
              "                          |        |        └─(neg)─ pred:-829572\n",
              "                          |        └─(neg)─ &quot;Longitude&quot;&gt;=121.064 [s:2.71964e+11 n:71 np:33 miss:1] ; pred:-1.08469e+06\n",
              "                          |                 ├─(pos)─ pred:-1.02873e+06\n",
              "                          |                 └─(neg)─ pred:-1.13329e+06\n",
              "                          └─(neg)─ &quot;Longitude&quot;&gt;=121.067 [s:6.08954e+12 n:18 np:10 miss:0] ; pred:-1.55696e+06\n",
              "                                   ├─(pos)─ pred:-1.77767e+06\n",
              "                                   └─(neg)─ pred:-1.28106e+06\n",
              "</pre></div></div></div>"
            ],
            "text/plain": [
              "<ydf.utils.html.HtmlNotebookDisplay at 0x78ea28f27ac0>"
            ]
          },
          "execution_count": 65,
          "metadata": {},
          "output_type": "execute_result"
        }
      ],
      "source": [
        "model.describe()"
      ]
    },
    {
      "cell_type": "markdown",
      "metadata": {
        "id": "-pG2Gv7MZ5vR"
      },
      "source": [
        "Calculating the range of your target variable (Price_PHP) was computed earlier in order to help interpret the Root Mean Squared Error (RMSE) of our model.\n",
        "\n",
        "The RMSE is a measure of the differences between the values predicted by a model and the actual values. However, RMSE alone doesn't tell you much about the performance of your model. It's a \"relative\" measure, meaning its interpretation depends on the context, specifically the scale of the target variable.\n",
        "\n",
        "By knowing the range of your target variable (the difference between the maximum and minimum house prices), you can better understand the RMSE. For example, an RMSE of 1000 is much more significant if your house prices range from 500 to 1500 (because the error is quite large compared to the range of your target variable), compared to if your house prices range from 3,000,000 to 100,000,000 (where the same RMSE would be relatively small compared to the range of your target variable).\n",
        "\n",
        "So, the range can provide context that helps you interpret the RMSE and understand how well your model is performing."
      ]
    },
    {
      "cell_type": "code",
      "execution_count": null,
      "metadata": {
        "colab": {
          "base_uri": "https://localhost:8080/"
        },
        "id": "TRNWo715L62l",
        "outputId": "016c9cf4-3c61-4da2-f198-74ea92ca4139"
      },
      "outputs": [
        {
          "name": "stdout",
          "output_type": "stream",
          "text": [
            "1/1 [==============================] - 0s 335ms/step - loss: 0.0000e+00\n"
          ]
        },
        {
          "data": {
            "text/plain": [
              "0.0"
            ]
          },
          "execution_count": 61,
          "metadata": {},
          "output_type": "execute_result"
        }
      ],
      "source": [
        "test_data_drop_location = test_data.drop(['Location'], axis=1)\n",
        "\n",
        "# Drop 'Location' column because it is not used in training\n",
        "test_data_eval = test_data_drop_location.astype('float32')\n",
        "\n",
        "# Convert the test data to tf.data.Dataset\n",
        "test_data_eval = tfdf.keras.pd_dataframe_to_tf_dataset(test_data_eval, task=tfdf.keras.Task.REGRESSION)\n",
        "\n",
        "model.evaluate(test_data_eval)"
      ]
    },
    {
      "cell_type": "markdown",
      "metadata": {
        "id": "SsC7PLY5NhCs"
      },
      "source": [
        "# Test saved (exported) model"
      ]
    },
    {
      "cell_type": "code",
      "execution_count": null,
      "metadata": {
        "colab": {
          "base_uri": "https://localhost:8080/"
        },
        "id": "KDvoW3iaO1X4",
        "outputId": "93cae56f-2446-459d-c942-e8fb4193ff0c"
      },
      "outputs": [
        {
          "data": {
            "text/plain": [
              "array([32212794.], dtype=float32)"
            ]
          },
          "execution_count": 64,
          "metadata": {},
          "output_type": "execute_result"
        }
      ],
      "source": [
        "# Load the model with YDF\n",
        "import ydf\n",
        "\n",
        "model = ydf.from_tensorflow_decision_forests(\"/content/project/pasig-model\")\n",
        "\n",
        "# Make predictions with the model\n",
        "examples = {\n",
        "  \"Bedrooms\" : [2],\n",
        "  \"Bath\" : [2],\n",
        "  \"Floor_area_sqm\" : [104],\n",
        "  \"Latitude\" : [14.575822],\n",
        "  \"Longitude\" : [121.064324],\n",
        "}\n",
        "model.predict(examples)"
      ]
    },
    {
      "cell_type": "markdown",
      "metadata": {
        "id": "3bEGc-B7zDPJ"
      },
      "source": [
        "# Download project folder (if using Google Colab)"
      ]
    },
    {
      "cell_type": "code",
      "execution_count": null,
      "metadata": {
        "colab": {
          "base_uri": "https://localhost:8080/"
        },
        "id": "rs1H27QGyeu6",
        "outputId": "7e82a434-2cfe-4957-9e06-28e99220e189"
      },
      "outputs": [
        {
          "name": "stdout",
          "output_type": "stream",
          "text": [
            "  adding: content/project/ (stored 0%)\n",
            "  adding: content/project/test.csv (deflated 91%)\n",
            "  adding: content/project/train.csv (deflated 88%)\n",
            "  adding: content/project/pasig-model/ (stored 0%)\n",
            "  adding: content/project/pasig-model/keras_metadata.pb (deflated 75%)\n",
            "  adding: content/project/pasig-model/assets/ (stored 0%)\n",
            "  adding: content/project/pasig-model/assets/85c3972e9b9b4742nodes-00000-of-00001 (deflated 61%)\n",
            "  adding: content/project/pasig-model/assets/85c3972e9b9b4742header.pb (deflated 27%)\n",
            "  adding: content/project/pasig-model/assets/85c3972e9b9b4742done (stored 0%)\n",
            "  adding: content/project/pasig-model/assets/85c3972e9b9b4742data_spec.pb (deflated 9%)\n",
            "  adding: content/project/pasig-model/assets/85c3972e9b9b4742gradient_boosted_trees_header.pb (deflated 40%)\n",
            "  adding: content/project/pasig-model/fingerprint.pb (stored 0%)\n",
            "  adding: content/project/pasig-model/variables/ (stored 0%)\n",
            "  adding: content/project/pasig-model/variables/variables.data-00000-of-00001 (deflated 54%)\n",
            "  adding: content/project/pasig-model/variables/variables.index (deflated 32%)\n",
            "  adding: content/project/pasig-model/saved_model.pb (deflated 85%)\n"
          ]
        }
      ],
      "source": [
        "!zip -r /content/project.zip /content/project"
      ]
    },
    {
      "cell_type": "code",
      "execution_count": null,
      "metadata": {
        "colab": {
          "base_uri": "https://localhost:8080/",
          "height": 17
        },
        "id": "nKC_PmESyn9_",
        "outputId": "f0ccc125-1afc-431d-90f6-8eb85f8d6784"
      },
      "outputs": [
        {
          "data": {
            "application/javascript": "\n    async function download(id, filename, size) {\n      if (!google.colab.kernel.accessAllowed) {\n        return;\n      }\n      const div = document.createElement('div');\n      const label = document.createElement('label');\n      label.textContent = `Downloading \"${filename}\": `;\n      div.appendChild(label);\n      const progress = document.createElement('progress');\n      progress.max = size;\n      div.appendChild(progress);\n      document.body.appendChild(div);\n\n      const buffers = [];\n      let downloaded = 0;\n\n      const channel = await google.colab.kernel.comms.open(id);\n      // Send a message to notify the kernel that we're ready.\n      channel.send({})\n\n      for await (const message of channel.messages) {\n        // Send a message to notify the kernel that we're ready.\n        channel.send({})\n        if (message.buffers) {\n          for (const buffer of message.buffers) {\n            buffers.push(buffer);\n            downloaded += buffer.byteLength;\n            progress.value = downloaded;\n          }\n        }\n      }\n      const blob = new Blob(buffers, {type: 'application/binary'});\n      const a = document.createElement('a');\n      a.href = window.URL.createObjectURL(blob);\n      a.download = filename;\n      div.appendChild(a);\n      a.click();\n      div.remove();\n    }\n  ",
            "text/plain": [
              "<IPython.core.display.Javascript object>"
            ]
          },
          "metadata": {},
          "output_type": "display_data"
        },
        {
          "data": {
            "application/javascript": "download(\"download_2cf1a046-dc18-4783-ab27-132fb6751367\", \"project.zip\", 58245)",
            "text/plain": [
              "<IPython.core.display.Javascript object>"
            ]
          },
          "metadata": {},
          "output_type": "display_data"
        }
      ],
      "source": [
        "from google.colab import files\n",
        "files.download(\"/content/project.zip\")"
      ]
    }
  ],
  "metadata": {
    "accelerator": "GPU",
    "colab": {
      "gpuType": "T4",
      "provenance": []
    },
    "kernelspec": {
      "display_name": "Python 3",
      "name": "python3"
    },
    "language_info": {
      "name": "python"
    }
  },
  "nbformat": 4,
  "nbformat_minor": 0
}
